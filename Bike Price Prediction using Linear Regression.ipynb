{
 "cells": [
  {
   "cell_type": "markdown",
   "id": "04438590",
   "metadata": {},
   "source": [
    "# Import Library"
   ]
  },
  {
   "cell_type": "code",
   "execution_count": 1,
   "id": "21b8db01",
   "metadata": {},
   "outputs": [],
   "source": [
    "import pandas as pd"
   ]
  },
  {
   "cell_type": "code",
   "execution_count": 2,
   "id": "9128476a",
   "metadata": {},
   "outputs": [],
   "source": [
    "import numpy as np"
   ]
  },
  {
   "cell_type": "code",
   "execution_count": 3,
   "id": "44458e61",
   "metadata": {},
   "outputs": [],
   "source": [
    "import matplotlib.pyplot as plt"
   ]
  },
  {
   "cell_type": "code",
   "execution_count": 4,
   "id": "19b92f1c",
   "metadata": {},
   "outputs": [
    {
     "data": {
      "text/html": [
       "<div>\n",
       "<style scoped>\n",
       "    .dataframe tbody tr th:only-of-type {\n",
       "        vertical-align: middle;\n",
       "    }\n",
       "\n",
       "    .dataframe tbody tr th {\n",
       "        vertical-align: top;\n",
       "    }\n",
       "\n",
       "    .dataframe thead th {\n",
       "        text-align: right;\n",
       "    }\n",
       "</style>\n",
       "<table border=\"1\" class=\"dataframe\">\n",
       "  <thead>\n",
       "    <tr style=\"text-align: right;\">\n",
       "      <th></th>\n",
       "      <th>Brand</th>\n",
       "      <th>Model</th>\n",
       "      <th>Selling_Price</th>\n",
       "      <th>Year</th>\n",
       "      <th>Seller_Type</th>\n",
       "      <th>Owner</th>\n",
       "      <th>KM_Driven</th>\n",
       "      <th>Ex_Showroom_Price</th>\n",
       "    </tr>\n",
       "  </thead>\n",
       "  <tbody>\n",
       "    <tr>\n",
       "      <th>0</th>\n",
       "      <td>TVS</td>\n",
       "      <td>TVS XL 100</td>\n",
       "      <td>30000</td>\n",
       "      <td>2017</td>\n",
       "      <td>Individual</td>\n",
       "      <td>1st owner</td>\n",
       "      <td>8000</td>\n",
       "      <td>30490.0</td>\n",
       "    </tr>\n",
       "    <tr>\n",
       "      <th>1</th>\n",
       "      <td>Bajaj</td>\n",
       "      <td>Bajaj  ct 100</td>\n",
       "      <td>18000</td>\n",
       "      <td>2017</td>\n",
       "      <td>Individual</td>\n",
       "      <td>1st owner</td>\n",
       "      <td>35000</td>\n",
       "      <td>32000.0</td>\n",
       "    </tr>\n",
       "    <tr>\n",
       "      <th>2</th>\n",
       "      <td>Yo</td>\n",
       "      <td>Yo Style</td>\n",
       "      <td>20000</td>\n",
       "      <td>2011</td>\n",
       "      <td>Individual</td>\n",
       "      <td>1st owner</td>\n",
       "      <td>10000</td>\n",
       "      <td>37675.0</td>\n",
       "    </tr>\n",
       "    <tr>\n",
       "      <th>3</th>\n",
       "      <td>Bajaj</td>\n",
       "      <td>Bajaj Discover 100</td>\n",
       "      <td>25000</td>\n",
       "      <td>2010</td>\n",
       "      <td>Individual</td>\n",
       "      <td>1st owner</td>\n",
       "      <td>43000</td>\n",
       "      <td>42859.0</td>\n",
       "    </tr>\n",
       "    <tr>\n",
       "      <th>4</th>\n",
       "      <td>Bajaj</td>\n",
       "      <td>Bajaj Discover 100</td>\n",
       "      <td>24999</td>\n",
       "      <td>2012</td>\n",
       "      <td>Individual</td>\n",
       "      <td>2nd owner</td>\n",
       "      <td>35000</td>\n",
       "      <td>42859.0</td>\n",
       "    </tr>\n",
       "    <tr>\n",
       "      <th>...</th>\n",
       "      <td>...</td>\n",
       "      <td>...</td>\n",
       "      <td>...</td>\n",
       "      <td>...</td>\n",
       "      <td>...</td>\n",
       "      <td>...</td>\n",
       "      <td>...</td>\n",
       "      <td>...</td>\n",
       "    </tr>\n",
       "    <tr>\n",
       "      <th>1056</th>\n",
       "      <td>Royal</td>\n",
       "      <td>Royal Enfield Electra 5 S</td>\n",
       "      <td>90000</td>\n",
       "      <td>2012</td>\n",
       "      <td>Individual</td>\n",
       "      <td>1st owner</td>\n",
       "      <td>40000</td>\n",
       "      <td>NaN</td>\n",
       "    </tr>\n",
       "    <tr>\n",
       "      <th>1057</th>\n",
       "      <td>Hero</td>\n",
       "      <td>Hero Honda Hunk</td>\n",
       "      <td>20000</td>\n",
       "      <td>2010</td>\n",
       "      <td>Individual</td>\n",
       "      <td>1st owner</td>\n",
       "      <td>17000</td>\n",
       "      <td>NaN</td>\n",
       "    </tr>\n",
       "    <tr>\n",
       "      <th>1058</th>\n",
       "      <td>Bajaj</td>\n",
       "      <td>Bajaj Pulsar 220 DTS-i</td>\n",
       "      <td>60000</td>\n",
       "      <td>2014</td>\n",
       "      <td>Individual</td>\n",
       "      <td>1st owner</td>\n",
       "      <td>16000</td>\n",
       "      <td>NaN</td>\n",
       "    </tr>\n",
       "    <tr>\n",
       "      <th>1059</th>\n",
       "      <td>Hero</td>\n",
       "      <td>Hero Honda CBZ extreme</td>\n",
       "      <td>40000</td>\n",
       "      <td>2009</td>\n",
       "      <td>Individual</td>\n",
       "      <td>1st owner</td>\n",
       "      <td>50000</td>\n",
       "      <td>NaN</td>\n",
       "    </tr>\n",
       "    <tr>\n",
       "      <th>1060</th>\n",
       "      <td>Hero</td>\n",
       "      <td>Hero Honda CBZ extreme</td>\n",
       "      <td>35000</td>\n",
       "      <td>2012</td>\n",
       "      <td>Individual</td>\n",
       "      <td>1st owner</td>\n",
       "      <td>60000</td>\n",
       "      <td>NaN</td>\n",
       "    </tr>\n",
       "  </tbody>\n",
       "</table>\n",
       "<p>1061 rows × 8 columns</p>\n",
       "</div>"
      ],
      "text/plain": [
       "      Brand                      Model  Selling_Price  Year Seller_Type  \\\n",
       "0       TVS                 TVS XL 100          30000  2017  Individual   \n",
       "1     Bajaj              Bajaj  ct 100          18000  2017  Individual   \n",
       "2        Yo                   Yo Style          20000  2011  Individual   \n",
       "3     Bajaj         Bajaj Discover 100          25000  2010  Individual   \n",
       "4     Bajaj         Bajaj Discover 100          24999  2012  Individual   \n",
       "...     ...                        ...            ...   ...         ...   \n",
       "1056  Royal  Royal Enfield Electra 5 S          90000  2012  Individual   \n",
       "1057   Hero            Hero Honda Hunk          20000  2010  Individual   \n",
       "1058  Bajaj     Bajaj Pulsar 220 DTS-i          60000  2014  Individual   \n",
       "1059   Hero     Hero Honda CBZ extreme          40000  2009  Individual   \n",
       "1060   Hero     Hero Honda CBZ extreme          35000  2012  Individual   \n",
       "\n",
       "          Owner  KM_Driven  Ex_Showroom_Price  \n",
       "0     1st owner       8000            30490.0  \n",
       "1     1st owner      35000            32000.0  \n",
       "2     1st owner      10000            37675.0  \n",
       "3     1st owner      43000            42859.0  \n",
       "4     2nd owner      35000            42859.0  \n",
       "...         ...        ...                ...  \n",
       "1056  1st owner      40000                NaN  \n",
       "1057  1st owner      17000                NaN  \n",
       "1058  1st owner      16000                NaN  \n",
       "1059  1st owner      50000                NaN  \n",
       "1060  1st owner      60000                NaN  \n",
       "\n",
       "[1061 rows x 8 columns]"
      ]
     },
     "execution_count": 4,
     "metadata": {},
     "output_type": "execute_result"
    }
   ],
   "source": [
    "bike=pd.read_csv(\"https://github.com/YBI-Foundation/Dataset/raw/main/Bike%20Prices.csv\")\n",
    "bike"
   ]
  },
  {
   "cell_type": "markdown",
   "id": "18d53f2d",
   "metadata": {},
   "source": [
    "# Get the first five rows of dataframe"
   ]
  },
  {
   "cell_type": "code",
   "execution_count": 5,
   "id": "cd12547e",
   "metadata": {},
   "outputs": [
    {
     "data": {
      "text/html": [
       "<div>\n",
       "<style scoped>\n",
       "    .dataframe tbody tr th:only-of-type {\n",
       "        vertical-align: middle;\n",
       "    }\n",
       "\n",
       "    .dataframe tbody tr th {\n",
       "        vertical-align: top;\n",
       "    }\n",
       "\n",
       "    .dataframe thead th {\n",
       "        text-align: right;\n",
       "    }\n",
       "</style>\n",
       "<table border=\"1\" class=\"dataframe\">\n",
       "  <thead>\n",
       "    <tr style=\"text-align: right;\">\n",
       "      <th></th>\n",
       "      <th>Brand</th>\n",
       "      <th>Model</th>\n",
       "      <th>Selling_Price</th>\n",
       "      <th>Year</th>\n",
       "      <th>Seller_Type</th>\n",
       "      <th>Owner</th>\n",
       "      <th>KM_Driven</th>\n",
       "      <th>Ex_Showroom_Price</th>\n",
       "    </tr>\n",
       "  </thead>\n",
       "  <tbody>\n",
       "    <tr>\n",
       "      <th>0</th>\n",
       "      <td>TVS</td>\n",
       "      <td>TVS XL 100</td>\n",
       "      <td>30000</td>\n",
       "      <td>2017</td>\n",
       "      <td>Individual</td>\n",
       "      <td>1st owner</td>\n",
       "      <td>8000</td>\n",
       "      <td>30490.0</td>\n",
       "    </tr>\n",
       "    <tr>\n",
       "      <th>1</th>\n",
       "      <td>Bajaj</td>\n",
       "      <td>Bajaj  ct 100</td>\n",
       "      <td>18000</td>\n",
       "      <td>2017</td>\n",
       "      <td>Individual</td>\n",
       "      <td>1st owner</td>\n",
       "      <td>35000</td>\n",
       "      <td>32000.0</td>\n",
       "    </tr>\n",
       "    <tr>\n",
       "      <th>2</th>\n",
       "      <td>Yo</td>\n",
       "      <td>Yo Style</td>\n",
       "      <td>20000</td>\n",
       "      <td>2011</td>\n",
       "      <td>Individual</td>\n",
       "      <td>1st owner</td>\n",
       "      <td>10000</td>\n",
       "      <td>37675.0</td>\n",
       "    </tr>\n",
       "    <tr>\n",
       "      <th>3</th>\n",
       "      <td>Bajaj</td>\n",
       "      <td>Bajaj Discover 100</td>\n",
       "      <td>25000</td>\n",
       "      <td>2010</td>\n",
       "      <td>Individual</td>\n",
       "      <td>1st owner</td>\n",
       "      <td>43000</td>\n",
       "      <td>42859.0</td>\n",
       "    </tr>\n",
       "    <tr>\n",
       "      <th>4</th>\n",
       "      <td>Bajaj</td>\n",
       "      <td>Bajaj Discover 100</td>\n",
       "      <td>24999</td>\n",
       "      <td>2012</td>\n",
       "      <td>Individual</td>\n",
       "      <td>2nd owner</td>\n",
       "      <td>35000</td>\n",
       "      <td>42859.0</td>\n",
       "    </tr>\n",
       "  </tbody>\n",
       "</table>\n",
       "</div>"
      ],
      "text/plain": [
       "   Brand               Model  Selling_Price  Year Seller_Type      Owner  \\\n",
       "0    TVS          TVS XL 100          30000  2017  Individual  1st owner   \n",
       "1  Bajaj       Bajaj  ct 100          18000  2017  Individual  1st owner   \n",
       "2     Yo            Yo Style          20000  2011  Individual  1st owner   \n",
       "3  Bajaj  Bajaj Discover 100          25000  2010  Individual  1st owner   \n",
       "4  Bajaj  Bajaj Discover 100          24999  2012  Individual  2nd owner   \n",
       "\n",
       "   KM_Driven  Ex_Showroom_Price  \n",
       "0       8000            30490.0  \n",
       "1      35000            32000.0  \n",
       "2      10000            37675.0  \n",
       "3      43000            42859.0  \n",
       "4      35000            42859.0  "
      ]
     },
     "execution_count": 5,
     "metadata": {},
     "output_type": "execute_result"
    }
   ],
   "source": [
    "bike.head()"
   ]
  },
  {
   "cell_type": "markdown",
   "id": "3e34a48b",
   "metadata": {},
   "source": [
    "# Get info of dataframe"
   ]
  },
  {
   "cell_type": "code",
   "execution_count": 6,
   "id": "7f8f2085",
   "metadata": {},
   "outputs": [
    {
     "name": "stdout",
     "output_type": "stream",
     "text": [
      "<class 'pandas.core.frame.DataFrame'>\n",
      "RangeIndex: 1061 entries, 0 to 1060\n",
      "Data columns (total 8 columns):\n",
      " #   Column             Non-Null Count  Dtype  \n",
      "---  ------             --------------  -----  \n",
      " 0   Brand              1061 non-null   object \n",
      " 1   Model              1061 non-null   object \n",
      " 2   Selling_Price      1061 non-null   int64  \n",
      " 3   Year               1061 non-null   int64  \n",
      " 4   Seller_Type        1061 non-null   object \n",
      " 5   Owner              1061 non-null   object \n",
      " 6   KM_Driven          1061 non-null   int64  \n",
      " 7   Ex_Showroom_Price  626 non-null    float64\n",
      "dtypes: float64(1), int64(3), object(4)\n",
      "memory usage: 66.4+ KB\n"
     ]
    }
   ],
   "source": [
    "bike.info()"
   ]
  },
  {
   "cell_type": "markdown",
   "id": "05ac61a3",
   "metadata": {},
   "source": [
    "# Get missing values Drop"
   ]
  },
  {
   "cell_type": "code",
   "execution_count": 7,
   "id": "86930e8c",
   "metadata": {},
   "outputs": [],
   "source": [
    "bike=bike.dropna()"
   ]
  },
  {
   "cell_type": "markdown",
   "id": "0bcd43d2",
   "metadata": {},
   "source": [
    "# Get summary Statistics"
   ]
  },
  {
   "cell_type": "code",
   "execution_count": 8,
   "id": "78fe68ed",
   "metadata": {},
   "outputs": [
    {
     "data": {
      "text/html": [
       "<div>\n",
       "<style scoped>\n",
       "    .dataframe tbody tr th:only-of-type {\n",
       "        vertical-align: middle;\n",
       "    }\n",
       "\n",
       "    .dataframe tbody tr th {\n",
       "        vertical-align: top;\n",
       "    }\n",
       "\n",
       "    .dataframe thead th {\n",
       "        text-align: right;\n",
       "    }\n",
       "</style>\n",
       "<table border=\"1\" class=\"dataframe\">\n",
       "  <thead>\n",
       "    <tr style=\"text-align: right;\">\n",
       "      <th></th>\n",
       "      <th>Selling_Price</th>\n",
       "      <th>Year</th>\n",
       "      <th>KM_Driven</th>\n",
       "      <th>Ex_Showroom_Price</th>\n",
       "    </tr>\n",
       "  </thead>\n",
       "  <tbody>\n",
       "    <tr>\n",
       "      <th>count</th>\n",
       "      <td>626.000000</td>\n",
       "      <td>626.000000</td>\n",
       "      <td>626.000000</td>\n",
       "      <td>6.260000e+02</td>\n",
       "    </tr>\n",
       "    <tr>\n",
       "      <th>mean</th>\n",
       "      <td>59445.164537</td>\n",
       "      <td>2014.800319</td>\n",
       "      <td>32671.576677</td>\n",
       "      <td>8.795871e+04</td>\n",
       "    </tr>\n",
       "    <tr>\n",
       "      <th>std</th>\n",
       "      <td>59904.350888</td>\n",
       "      <td>3.018885</td>\n",
       "      <td>45479.661039</td>\n",
       "      <td>7.749659e+04</td>\n",
       "    </tr>\n",
       "    <tr>\n",
       "      <th>min</th>\n",
       "      <td>6000.000000</td>\n",
       "      <td>2001.000000</td>\n",
       "      <td>380.000000</td>\n",
       "      <td>3.049000e+04</td>\n",
       "    </tr>\n",
       "    <tr>\n",
       "      <th>25%</th>\n",
       "      <td>30000.000000</td>\n",
       "      <td>2013.000000</td>\n",
       "      <td>13031.250000</td>\n",
       "      <td>5.485200e+04</td>\n",
       "    </tr>\n",
       "    <tr>\n",
       "      <th>50%</th>\n",
       "      <td>45000.000000</td>\n",
       "      <td>2015.000000</td>\n",
       "      <td>25000.000000</td>\n",
       "      <td>7.275250e+04</td>\n",
       "    </tr>\n",
       "    <tr>\n",
       "      <th>75%</th>\n",
       "      <td>65000.000000</td>\n",
       "      <td>2017.000000</td>\n",
       "      <td>40000.000000</td>\n",
       "      <td>8.703150e+04</td>\n",
       "    </tr>\n",
       "    <tr>\n",
       "      <th>max</th>\n",
       "      <td>760000.000000</td>\n",
       "      <td>2020.000000</td>\n",
       "      <td>585659.000000</td>\n",
       "      <td>1.278000e+06</td>\n",
       "    </tr>\n",
       "  </tbody>\n",
       "</table>\n",
       "</div>"
      ],
      "text/plain": [
       "       Selling_Price         Year      KM_Driven  Ex_Showroom_Price\n",
       "count     626.000000   626.000000     626.000000       6.260000e+02\n",
       "mean    59445.164537  2014.800319   32671.576677       8.795871e+04\n",
       "std     59904.350888     3.018885   45479.661039       7.749659e+04\n",
       "min      6000.000000  2001.000000     380.000000       3.049000e+04\n",
       "25%     30000.000000  2013.000000   13031.250000       5.485200e+04\n",
       "50%     45000.000000  2015.000000   25000.000000       7.275250e+04\n",
       "75%     65000.000000  2017.000000   40000.000000       8.703150e+04\n",
       "max    760000.000000  2020.000000  585659.000000       1.278000e+06"
      ]
     },
     "execution_count": 8,
     "metadata": {},
     "output_type": "execute_result"
    }
   ],
   "source": [
    "bike.describe() "
   ]
  },
  {
   "cell_type": "markdown",
   "id": "cec6b743",
   "metadata": {},
   "source": [
    "# Get categories and count of categorical variables"
   ]
  },
  {
   "cell_type": "code",
   "execution_count": 9,
   "id": "71ec0638",
   "metadata": {},
   "outputs": [
    {
     "data": {
      "text/plain": [
       "Brand   \n",
       "Honda       170\n",
       "Bajaj       143\n",
       "Hero        108\n",
       "Yamaha       94\n",
       "Royal        40\n",
       "TVS          23\n",
       "Suzuki       18\n",
       "KTM           6\n",
       "Mahindra      6\n",
       "Kawasaki      4\n",
       "UM            3\n",
       "Activa        3\n",
       "Harley        2\n",
       "Vespa         2\n",
       "BMW           1\n",
       "Hyosung       1\n",
       "Benelli       1\n",
       "Yo            1\n",
       "dtype: int64"
      ]
     },
     "execution_count": 9,
     "metadata": {},
     "output_type": "execute_result"
    }
   ],
   "source": [
    "bike[[\"Brand\"]].value_counts()"
   ]
  },
  {
   "cell_type": "code",
   "execution_count": 10,
   "id": "e7b2ec0e",
   "metadata": {},
   "outputs": [
    {
     "data": {
      "text/plain": [
       "Model                                     \n",
       "Honda Activa [2000-2015]                      23\n",
       "Honda CB Hornet 160R                          22\n",
       "Bajaj Pulsar 180                              20\n",
       "Yamaha FZ S V 2.0                             16\n",
       "Bajaj Discover 125                            16\n",
       "                                              ..\n",
       "Royal Enfield Thunderbird 500                  1\n",
       "Royal Enfield Continental GT [2013 - 2018]     1\n",
       "Royal Enfield Classic Stealth Black            1\n",
       "Royal Enfield Classic Squadron Blue            1\n",
       "Yo Style                                       1\n",
       "Length: 183, dtype: int64"
      ]
     },
     "execution_count": 10,
     "metadata": {},
     "output_type": "execute_result"
    }
   ],
   "source": [
    "bike[[\"Model\"]].value_counts()"
   ]
  },
  {
   "cell_type": "markdown",
   "id": "e521378c",
   "metadata": {},
   "source": [
    "# Get column names"
   ]
  },
  {
   "cell_type": "code",
   "execution_count": 11,
   "id": "a8b519c1",
   "metadata": {},
   "outputs": [
    {
     "data": {
      "text/plain": [
       "Index(['Brand', 'Model', 'Selling_Price', 'Year', 'Seller_Type', 'Owner',\n",
       "       'KM_Driven', 'Ex_Showroom_Price'],\n",
       "      dtype='object')"
      ]
     },
     "execution_count": 11,
     "metadata": {},
     "output_type": "execute_result"
    }
   ],
   "source": [
    "bike.columns"
   ]
  },
  {
   "cell_type": "markdown",
   "id": "b080d9f0",
   "metadata": {},
   "source": [
    "# Get shape of Dataframe"
   ]
  },
  {
   "cell_type": "code",
   "execution_count": 12,
   "id": "e888a209",
   "metadata": {},
   "outputs": [
    {
     "data": {
      "text/plain": [
       "(626, 8)"
      ]
     },
     "execution_count": 12,
     "metadata": {},
     "output_type": "execute_result"
    }
   ],
   "source": [
    "bike.shape"
   ]
  },
  {
   "cell_type": "markdown",
   "id": "1188a1d1",
   "metadata": {},
   "source": [
    "# Get encoding of categorical festures"
   ]
  },
  {
   "cell_type": "code",
   "execution_count": 13,
   "id": "cf57c3c5",
   "metadata": {},
   "outputs": [
    {
     "name": "stderr",
     "output_type": "stream",
     "text": [
      "C:\\Users\\Rahul\\anaconda3\\lib\\site-packages\\pandas\\core\\indexing.py:1676: SettingWithCopyWarning: \n",
      "A value is trying to be set on a copy of a slice from a DataFrame.\n",
      "Try using .loc[row_indexer,col_indexer] = value instead\n",
      "\n",
      "See the caveats in the documentation: https://pandas.pydata.org/pandas-docs/stable/user_guide/indexing.html#returning-a-view-versus-a-copy\n",
      "  self._setitem_single_column(ilocs[0], value, pi)\n"
     ]
    }
   ],
   "source": [
    "bike.replace({'Seller_Type':{'Individual':0,'Dealer':1}},inplace=True)"
   ]
  },
  {
   "cell_type": "code",
   "execution_count": 14,
   "id": "db8dd04f",
   "metadata": {},
   "outputs": [],
   "source": [
    "bike.replace({'Owner':{'1st owner':0,'2nd owner':1,'3rd owner':2,'4th owner':3, }},inplace=True)"
   ]
  },
  {
   "cell_type": "markdown",
   "id": "ba71ead2",
   "metadata": {},
   "source": [
    "# Define y (Dependent variable) and x(independent variable)"
   ]
  },
  {
   "cell_type": "code",
   "execution_count": 15,
   "id": "a695ffd7",
   "metadata": {},
   "outputs": [],
   "source": [
    "y =bike['Selling_Price']"
   ]
  },
  {
   "cell_type": "code",
   "execution_count": 16,
   "id": "8010c108",
   "metadata": {},
   "outputs": [
    {
     "data": {
      "text/plain": [
       "(626,)"
      ]
     },
     "execution_count": 16,
     "metadata": {},
     "output_type": "execute_result"
    }
   ],
   "source": [
    "y.shape"
   ]
  },
  {
   "cell_type": "code",
   "execution_count": 17,
   "id": "b6f4a2ad",
   "metadata": {},
   "outputs": [
    {
     "data": {
      "text/plain": [
       "0       30000\n",
       "1       18000\n",
       "2       20000\n",
       "3       25000\n",
       "4       24999\n",
       "        ...  \n",
       "621    330000\n",
       "622    300000\n",
       "623    425000\n",
       "624    760000\n",
       "625    750000\n",
       "Name: Selling_Price, Length: 626, dtype: int64"
      ]
     },
     "execution_count": 17,
     "metadata": {},
     "output_type": "execute_result"
    }
   ],
   "source": [
    "y"
   ]
  },
  {
   "cell_type": "code",
   "execution_count": 18,
   "id": "d0ead767",
   "metadata": {},
   "outputs": [],
   "source": [
    "x= bike[['Year','Seller_Type','Owner','KM_Driven','Ex_Showroom_Price']]"
   ]
  },
  {
   "cell_type": "code",
   "execution_count": 19,
   "id": "c0df4b74",
   "metadata": {},
   "outputs": [],
   "source": [
    "X = bike.drop(['Brand','Model','Selling_Price'],axis=1)"
   ]
  },
  {
   "cell_type": "code",
   "execution_count": 20,
   "id": "9ac4a299",
   "metadata": {},
   "outputs": [
    {
     "data": {
      "text/plain": [
       "(626, 5)"
      ]
     },
     "execution_count": 20,
     "metadata": {},
     "output_type": "execute_result"
    }
   ],
   "source": [
    "x.shape"
   ]
  },
  {
   "cell_type": "code",
   "execution_count": 21,
   "id": "545357f7",
   "metadata": {},
   "outputs": [
    {
     "data": {
      "text/html": [
       "<div>\n",
       "<style scoped>\n",
       "    .dataframe tbody tr th:only-of-type {\n",
       "        vertical-align: middle;\n",
       "    }\n",
       "\n",
       "    .dataframe tbody tr th {\n",
       "        vertical-align: top;\n",
       "    }\n",
       "\n",
       "    .dataframe thead th {\n",
       "        text-align: right;\n",
       "    }\n",
       "</style>\n",
       "<table border=\"1\" class=\"dataframe\">\n",
       "  <thead>\n",
       "    <tr style=\"text-align: right;\">\n",
       "      <th></th>\n",
       "      <th>Year</th>\n",
       "      <th>Seller_Type</th>\n",
       "      <th>Owner</th>\n",
       "      <th>KM_Driven</th>\n",
       "      <th>Ex_Showroom_Price</th>\n",
       "    </tr>\n",
       "  </thead>\n",
       "  <tbody>\n",
       "    <tr>\n",
       "      <th>0</th>\n",
       "      <td>2017</td>\n",
       "      <td>0</td>\n",
       "      <td>0</td>\n",
       "      <td>8000</td>\n",
       "      <td>30490.0</td>\n",
       "    </tr>\n",
       "    <tr>\n",
       "      <th>1</th>\n",
       "      <td>2017</td>\n",
       "      <td>0</td>\n",
       "      <td>0</td>\n",
       "      <td>35000</td>\n",
       "      <td>32000.0</td>\n",
       "    </tr>\n",
       "    <tr>\n",
       "      <th>2</th>\n",
       "      <td>2011</td>\n",
       "      <td>0</td>\n",
       "      <td>0</td>\n",
       "      <td>10000</td>\n",
       "      <td>37675.0</td>\n",
       "    </tr>\n",
       "    <tr>\n",
       "      <th>3</th>\n",
       "      <td>2010</td>\n",
       "      <td>0</td>\n",
       "      <td>0</td>\n",
       "      <td>43000</td>\n",
       "      <td>42859.0</td>\n",
       "    </tr>\n",
       "    <tr>\n",
       "      <th>4</th>\n",
       "      <td>2012</td>\n",
       "      <td>0</td>\n",
       "      <td>1</td>\n",
       "      <td>35000</td>\n",
       "      <td>42859.0</td>\n",
       "    </tr>\n",
       "    <tr>\n",
       "      <th>...</th>\n",
       "      <td>...</td>\n",
       "      <td>...</td>\n",
       "      <td>...</td>\n",
       "      <td>...</td>\n",
       "      <td>...</td>\n",
       "    </tr>\n",
       "    <tr>\n",
       "      <th>621</th>\n",
       "      <td>2014</td>\n",
       "      <td>0</td>\n",
       "      <td>3</td>\n",
       "      <td>6500</td>\n",
       "      <td>534000.0</td>\n",
       "    </tr>\n",
       "    <tr>\n",
       "      <th>622</th>\n",
       "      <td>2011</td>\n",
       "      <td>0</td>\n",
       "      <td>0</td>\n",
       "      <td>12000</td>\n",
       "      <td>589000.0</td>\n",
       "    </tr>\n",
       "    <tr>\n",
       "      <th>623</th>\n",
       "      <td>2017</td>\n",
       "      <td>0</td>\n",
       "      <td>1</td>\n",
       "      <td>13600</td>\n",
       "      <td>599000.0</td>\n",
       "    </tr>\n",
       "    <tr>\n",
       "      <th>624</th>\n",
       "      <td>2019</td>\n",
       "      <td>0</td>\n",
       "      <td>0</td>\n",
       "      <td>2800</td>\n",
       "      <td>752020.0</td>\n",
       "    </tr>\n",
       "    <tr>\n",
       "      <th>625</th>\n",
       "      <td>2013</td>\n",
       "      <td>0</td>\n",
       "      <td>1</td>\n",
       "      <td>12000</td>\n",
       "      <td>1278000.0</td>\n",
       "    </tr>\n",
       "  </tbody>\n",
       "</table>\n",
       "<p>626 rows × 5 columns</p>\n",
       "</div>"
      ],
      "text/plain": [
       "     Year  Seller_Type  Owner  KM_Driven  Ex_Showroom_Price\n",
       "0    2017            0      0       8000            30490.0\n",
       "1    2017            0      0      35000            32000.0\n",
       "2    2011            0      0      10000            37675.0\n",
       "3    2010            0      0      43000            42859.0\n",
       "4    2012            0      1      35000            42859.0\n",
       "..    ...          ...    ...        ...                ...\n",
       "621  2014            0      3       6500           534000.0\n",
       "622  2011            0      0      12000           589000.0\n",
       "623  2017            0      1      13600           599000.0\n",
       "624  2019            0      0       2800           752020.0\n",
       "625  2013            0      1      12000          1278000.0\n",
       "\n",
       "[626 rows x 5 columns]"
      ]
     },
     "execution_count": 21,
     "metadata": {},
     "output_type": "execute_result"
    }
   ],
   "source": [
    "X"
   ]
  },
  {
   "cell_type": "markdown",
   "id": "82c6043c",
   "metadata": {},
   "source": [
    "# Get train test split"
   ]
  },
  {
   "cell_type": "code",
   "execution_count": 22,
   "id": "cab26ad4",
   "metadata": {},
   "outputs": [],
   "source": [
    "from sklearn.model_selection import train_test_split"
   ]
  },
  {
   "cell_type": "code",
   "execution_count": 23,
   "id": "eb050431",
   "metadata": {},
   "outputs": [],
   "source": [
    "X_train,X_test,y_train,y_test = train_test_split(X,y,test_size = 0.3,random_state=142529)"
   ]
  },
  {
   "cell_type": "code",
   "execution_count": 24,
   "id": "2d288382",
   "metadata": {},
   "outputs": [
    {
     "data": {
      "text/plain": [
       "((438, 5), (188, 5), (438,), (188,))"
      ]
     },
     "execution_count": 24,
     "metadata": {},
     "output_type": "execute_result"
    }
   ],
   "source": [
    "X_train.shape,X_test.shape,y_train.shape,y_test.shape"
   ]
  },
  {
   "cell_type": "code",
   "execution_count": 25,
   "id": "aa0945dd",
   "metadata": {},
   "outputs": [],
   "source": [
    "from sklearn.linear_model import LinearRegression"
   ]
  },
  {
   "cell_type": "code",
   "execution_count": 26,
   "id": "9d9a8a8b",
   "metadata": {},
   "outputs": [],
   "source": [
    "lr = LinearRegression()"
   ]
  },
  {
   "cell_type": "code",
   "execution_count": 27,
   "id": "d264f55b",
   "metadata": {},
   "outputs": [
    {
     "data": {
      "text/plain": [
       "LinearRegression()"
      ]
     },
     "execution_count": 27,
     "metadata": {},
     "output_type": "execute_result"
    }
   ],
   "source": [
    "lr.fit(X_train,y_train)"
   ]
  },
  {
   "cell_type": "code",
   "execution_count": 28,
   "id": "17c8c543",
   "metadata": {},
   "outputs": [],
   "source": [
    "y_pred = lr.predict(X_test)"
   ]
  },
  {
   "cell_type": "code",
   "execution_count": 29,
   "id": "25fe6923",
   "metadata": {},
   "outputs": [
    {
     "data": {
      "text/plain": [
       "(188,)"
      ]
     },
     "execution_count": 29,
     "metadata": {},
     "output_type": "execute_result"
    }
   ],
   "source": [
    "y_pred.shape"
   ]
  },
  {
   "cell_type": "code",
   "execution_count": 30,
   "id": "08c50776",
   "metadata": {},
   "outputs": [
    {
     "data": {
      "text/plain": [
       "array([ 82812.18611865,  25495.64098152,  54425.60944074,  57308.53420253,\n",
       "       101952.56245983,  68840.26653639,  15288.32480967, 118769.69427514,\n",
       "        32069.45832078,   2165.24031242,  44233.25066161, 121013.99523211,\n",
       "       493296.25423876,  81779.58674768,   8356.99438685,  31539.83236234,\n",
       "        38286.17372207,  83761.95064901, 111358.66124488,  23278.82200509,\n",
       "        54613.67528348,  45291.6782702 ,  31688.22963989,  62756.9465266 ,\n",
       "        68840.26653639, 316367.33891257,  36943.09823601, 120831.69257535,\n",
       "        16830.03045408, 382479.99953964,  45402.57673525,  39605.90362643,\n",
       "        40942.78580199, 131730.49549463,  54847.38640491,  52747.11158755,\n",
       "        78406.54682755,  39242.16435878, 120206.85235229, 121442.42201778,\n",
       "        83721.68167661,  92115.95700902,  27438.50426759,  31669.93444996,\n",
       "        59040.80650483,  23290.58869786, 124419.75790139,  64375.7840938 ,\n",
       "        52981.06872681,  51366.62951267, 127721.27228914,  45150.50447796,\n",
       "        39839.73601277,  23567.72337797,  66034.78197805,  27894.82836187,\n",
       "        44884.75175845,  39571.26179141,  43054.0828603 ,  96841.20944731,\n",
       "        49591.18080196,  28023.94712158,  47974.16592551,  16067.38021633,\n",
       "        38786.9595795 ,  32206.50337361,  30379.88583963,  27737.68380008,\n",
       "        44877.60254091,  19863.52807713,  28785.44398914,  47835.74386494,\n",
       "        71120.66706572,  60747.32615757,  37347.57924754,  39784.79406244,\n",
       "       130170.18121842,  31965.46654344,  14243.74563757,  32008.85512789,\n",
       "        58758.50087831,  17847.94259877,  48422.56201391,  60839.9584244 ,\n",
       "        30718.70974787,  58880.61334674,  89124.61393215,  23864.26485908,\n",
       "        -5628.51274688,  46565.70441757,  42722.92370701,  23446.47695542,\n",
       "        38840.34929643, 131694.69344939,   9651.0404374 , 112552.67246984,\n",
       "        54299.43268044,  57200.54546191,  27440.13485253,  38407.35318695,\n",
       "        62925.51670871,  28927.48718899,  41976.7344452 ,  46669.99880745,\n",
       "        19112.51778594,  58873.95131477,  48887.4204213 ,  30169.91157371,\n",
       "        26420.10037105,  53573.3109853 ,  59663.77423103,  -3434.23846285,\n",
       "        90497.55072904,  69878.44938502,  23835.17609609,  53144.28593182,\n",
       "       123304.60783422,  48136.17170619, 106828.99088609,  54404.82884837,\n",
       "         9736.42908385,  27624.8614705 ,  55273.95487952,  52789.50011764,\n",
       "        59052.95647593,  58687.76397572,  25567.5908344 ,  23930.39491371,\n",
       "        95448.3506068 , 123426.30933589,  77645.72508031,  65792.84925516,\n",
       "        53056.62256139,  36027.241949  ,  59379.46839381,  23524.85559589,\n",
       "        51419.0441887 ,  15807.74265339,  27857.31252177,  73156.94538518,\n",
       "        26951.88793459,  43118.71018434,  67696.76521563,  27911.71404681,\n",
       "        32095.43969704, 112628.84625633,  26794.81539301,  75709.90808239,\n",
       "        73571.53907662,  32074.28932945,  46756.90078111,  62462.49092899,\n",
       "        47246.34523716,  55482.60701019,  48447.88049517,  60059.06781479,\n",
       "        41966.50720109,  49890.07353164,  68696.69867644,  62046.15980873,\n",
       "        61411.25227358,  33272.87560807,  62985.2939513 ,  16313.59006466,\n",
       "        47835.58018849,  59694.10134039, 237072.63339058,  53334.16937428,\n",
       "        47437.81261404,  77784.29242037,  37110.98508891,  60042.89265623,\n",
       "        66802.66857333,  41530.96463672,  24702.23825969,  35036.70414766,\n",
       "       121536.90104239,  49044.60728769,  36967.01465499,  54907.97497435,\n",
       "        38487.37156054,  31872.2126426 ,  52886.01815099,  31252.04524191,\n",
       "        73261.13136669,  27355.50669806, 137719.81617872,  25311.14531923])"
      ]
     },
     "execution_count": 30,
     "metadata": {},
     "output_type": "execute_result"
    }
   ],
   "source": [
    "y_pred"
   ]
  },
  {
   "cell_type": "code",
   "execution_count": 31,
   "id": "e6d84e68",
   "metadata": {},
   "outputs": [],
   "source": [
    "from sklearn.metrics import mean_squared_error,mean_absolute_error,r2_score"
   ]
  },
  {
   "cell_type": "code",
   "execution_count": 32,
   "id": "90e48c00",
   "metadata": {},
   "outputs": [
    {
     "data": {
      "text/plain": [
       "599512979.6755701"
      ]
     },
     "execution_count": 32,
     "metadata": {},
     "output_type": "execute_result"
    }
   ],
   "source": [
    "mean_squared_error(y_test,y_pred)"
   ]
  },
  {
   "cell_type": "code",
   "execution_count": 33,
   "id": "1eb043e2",
   "metadata": {},
   "outputs": [
    {
     "data": {
      "text/plain": [
       "11405.261433498687"
      ]
     },
     "execution_count": 33,
     "metadata": {},
     "output_type": "execute_result"
    }
   ],
   "source": [
    "mean_absolute_error(y_test,y_pred)"
   ]
  },
  {
   "cell_type": "code",
   "execution_count": 34,
   "id": "1c4cad5e",
   "metadata": {},
   "outputs": [
    {
     "data": {
      "text/plain": [
       "0.8876024964272063"
      ]
     },
     "execution_count": 34,
     "metadata": {},
     "output_type": "execute_result"
    }
   ],
   "source": [
    "r2_score(y_test,y_pred)"
   ]
  },
  {
   "cell_type": "markdown",
   "id": "c284bcae",
   "metadata": {},
   "source": [
    "# Get visualization of Actual vs predicted results"
   ]
  },
  {
   "cell_type": "code",
   "execution_count": 35,
   "id": "fc7a3a7c",
   "metadata": {},
   "outputs": [
    {
     "data": {
      "image/png": "[encoded data removed]",
      "text/plain": [
       "<Figure size 432x288 with 1 Axes>"
      ]
     },
     "metadata": {
      "needs_background": "light"
     },
     "output_type": "display_data"
    }
   ],
   "source": [
    "import matplotlib.pyplot as plt\n",
    "plt.scatter(y_test,y_pred)\n",
    "plt.xlabel(\"Actual Prices\")\n",
    "plt.ylabel(\"Predicted Prices\")\n",
    "plt.title(\"Actual Prices vs Predicted Prices\")\n",
    "plt.show()"
   ]
  },
  {
   "cell_type": "markdown",
   "id": "de9c069c",
   "metadata": {},
   "source": [
    "# Get Future Predictions"
   ]
  },
  {
   "cell_type": "code",
   "execution_count": 36,
   "id": "489050cb",
   "metadata": {},
   "outputs": [],
   "source": [
    "bike_new = bike.sample(1)"
   ]
  },
  {
   "cell_type": "code",
   "execution_count": 37,
   "id": "dcdb95f8",
   "metadata": {},
   "outputs": [
    {
     "data": {
      "text/html": [
       "<div>\n",
       "<style scoped>\n",
       "    .dataframe tbody tr th:only-of-type {\n",
       "        vertical-align: middle;\n",
       "    }\n",
       "\n",
       "    .dataframe tbody tr th {\n",
       "        vertical-align: top;\n",
       "    }\n",
       "\n",
       "    .dataframe thead th {\n",
       "        text-align: right;\n",
       "    }\n",
       "</style>\n",
       "<table border=\"1\" class=\"dataframe\">\n",
       "  <thead>\n",
       "    <tr style=\"text-align: right;\">\n",
       "      <th></th>\n",
       "      <th>Brand</th>\n",
       "      <th>Model</th>\n",
       "      <th>Selling_Price</th>\n",
       "      <th>Year</th>\n",
       "      <th>Seller_Type</th>\n",
       "      <th>Owner</th>\n",
       "      <th>KM_Driven</th>\n",
       "      <th>Ex_Showroom_Price</th>\n",
       "    </tr>\n",
       "  </thead>\n",
       "  <tbody>\n",
       "    <tr>\n",
       "      <th>388</th>\n",
       "      <td>Hero</td>\n",
       "      <td>Hero Xtreme Sports</td>\n",
       "      <td>50000</td>\n",
       "      <td>2014</td>\n",
       "      <td>0</td>\n",
       "      <td>0</td>\n",
       "      <td>80000</td>\n",
       "      <td>80350.0</td>\n",
       "    </tr>\n",
       "  </tbody>\n",
       "</table>\n",
       "</div>"
      ],
      "text/plain": [
       "    Brand               Model  Selling_Price  Year  Seller_Type  Owner  \\\n",
       "388  Hero  Hero Xtreme Sports          50000  2014            0      0   \n",
       "\n",
       "     KM_Driven  Ex_Showroom_Price  \n",
       "388      80000            80350.0  "
      ]
     },
     "execution_count": 37,
     "metadata": {},
     "output_type": "execute_result"
    }
   ],
   "source": [
    "bike_new"
   ]
  },
  {
   "cell_type": "code",
   "execution_count": 38,
   "id": "e36bc88b",
   "metadata": {},
   "outputs": [
    {
     "data": {
      "text/plain": [
       "(1, 8)"
      ]
     },
     "execution_count": 38,
     "metadata": {},
     "output_type": "execute_result"
    }
   ],
   "source": [
    " bike_new.shape"
   ]
  },
  {
   "cell_type": "code",
   "execution_count": 39,
   "id": "55eaf164",
   "metadata": {},
   "outputs": [],
   "source": [
    "X_new =bike_new.drop(['Brand','Model','Selling_Price'],axis = 1)"
   ]
  },
  {
   "cell_type": "code",
   "execution_count": 40,
   "id": "ae2cf347",
   "metadata": {},
   "outputs": [],
   "source": [
    "y_pred_new = lr.predict(X_new)"
   ]
  },
  {
   "cell_type": "code",
   "execution_count": 41,
   "id": "b6060aba",
   "metadata": {},
   "outputs": [
    {
     "data": {
      "text/plain": [
       "array([50198.14163167])"
      ]
     },
     "execution_count": 41,
     "metadata": {},
     "output_type": "execute_result"
    }
   ],
   "source": [
    "y_pred_new"
   ]
  }
 ],
 "metadata": {
  "kernelspec": {
   "display_name": "Python 3",
   "language": "python",
   "name": "python3"
  },
  "language_info": {
   "codemirror_mode": {
    "name": "ipython",
    "version": 3
   },
   "file_extension": ".py",
   "mimetype": "text/x-python",
   "name": "python",
   "nbconvert_exporter": "python",
   "pygments_lexer": "ipython3",
   "version": "3.8.8"
  }
 },
 "nbformat": 4,
 "nbformat_minor": 5
}
